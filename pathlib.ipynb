{
 "cells": [
  {
   "cell_type": "markdown",
   "metadata": {},
   "source": [
    "转载：https://xin053.github.io/2016/07/03/pathlib路径库使用详解/\n",
    "\n",
    "# python3 中 `pathlib` 库的使用\n",
    "\n",
    "`pathlib` 库在 python 3.4 以后已经成为标准库，基本上可以代替 `os.path` 来处理路径。它采用完全面对对象的编程方式。\n",
    "总共有 6 个类用来处理路径，大体可以分为两类：\n",
    "\n",
    "- `pure paths` 单纯的路径计算操作而没有 IO 功能\n",
    "- `concrete paths` 路经计算操作和 IO 功能\n",
    "\n",
    "这 6 个类的继承关系如下：\n",
    "\n",
    "![](http://pathlib.readthedocs.io/en/pep428/_images/pathlib-inheritance.png)\n",
    "\n",
    "可以看到 `PurePath` 是所有类的基类,我们重点要掌握 `PurePath` 和 `Path` 这两个类,在 Windows 平台下路径对象会有 Windows 前缀,Unix 平台上路径对象会有 Posix 前缀。\n",
    "\n",
    "## 基本使用\n",
    "\n",
    "### 列出所有子目录"
   ]
  },
  {
   "cell_type": "code",
   "execution_count": 1,
   "metadata": {},
   "outputs": [],
   "source": [
    "import pathlib\n",
    "p = pathlib.Path('.')"
   ]
  },
  {
   "cell_type": "code",
   "execution_count": 2,
   "metadata": {},
   "outputs": [
    {
     "data": {
      "text/plain": [
       "[WindowsPath('.git'), WindowsPath('.ipynb_checkpoints'), WindowsPath('data')]"
      ]
     },
     "execution_count": 2,
     "metadata": {},
     "output_type": "execute_result"
    }
   ],
   "source": [
    "[x for x in p.iterdir() if x.is_dir()]"
   ]
  },
  {
   "cell_type": "markdown",
   "metadata": {},
   "source": [
    "### 列出指定类型的文件"
   ]
  },
  {
   "cell_type": "code",
   "execution_count": 3,
   "metadata": {},
   "outputs": [
    {
     "data": {
      "text/plain": [
       "[WindowsPath('pathlib.ipynb'),\n",
       " WindowsPath('科大讯飞移动广告反欺诈算法挑战赛.ipynb'),\n",
       " WindowsPath('.ipynb_checkpoints/pathlib-checkpoint.ipynb'),\n",
       " WindowsPath('.ipynb_checkpoints/科大讯飞移动广告反欺诈算法挑战赛-checkpoint.ipynb')]"
      ]
     },
     "execution_count": 3,
     "metadata": {},
     "output_type": "execute_result"
    }
   ],
   "source": [
    "list(p.glob('**/*.ipynb'))"
   ]
  },
  {
   "cell_type": "markdown",
   "metadata": {},
   "source": [
    "### 路径拼接\n",
    "\n",
    "可以使用 `/` 符号来拼接路径"
   ]
  },
  {
   "cell_type": "code",
   "execution_count": 4,
   "metadata": {},
   "outputs": [
    {
     "name": "stdout",
     "output_type": "stream",
     "text": [
      "data\\pathlib.ipynb\n"
     ]
    }
   ],
   "source": [
    "p = pathlib.Path('data')\n",
    "q = p / 'pathlib.ipynb'\n",
    "print(q)"
   ]
  },
  {
   "cell_type": "markdown",
   "metadata": {},
   "source": [
    "### 查询属性"
   ]
  },
  {
   "cell_type": "code",
   "execution_count": 5,
   "metadata": {},
   "outputs": [
    {
     "data": {
      "text/plain": [
       "(False, False)"
      ]
     },
     "execution_count": 5,
     "metadata": {},
     "output_type": "execute_result"
    }
   ],
   "source": [
    "q.exists(), q.is_dir()"
   ]
  },
  {
   "cell_type": "markdown",
   "metadata": {},
   "source": [
    "### 打开文件"
   ]
  },
  {
   "cell_type": "code",
   "execution_count": 10,
   "metadata": {},
   "outputs": [
    {
     "name": "stdout",
     "output_type": "stream",
     "text": [
      "b'# Mobile-a'\n"
     ]
    }
   ],
   "source": [
    "with open('README.md', 'rb') as fp:\n",
    "    print(fp.read(10))"
   ]
  },
  {
   "cell_type": "markdown",
   "metadata": {},
   "source": [
    "## Pure paths\n",
    "\n",
    "产生 `Pure paths` 的三种方式："
   ]
  },
  {
   "cell_type": "code",
   "execution_count": 11,
   "metadata": {},
   "outputs": [],
   "source": [
    "from pathlib import PurePath"
   ]
  },
  {
   "cell_type": "code",
   "execution_count": 12,
   "metadata": {},
   "outputs": [
    {
     "data": {
      "text/plain": [
       "PureWindowsPath('README.md')"
      ]
     },
     "execution_count": 12,
     "metadata": {},
     "output_type": "execute_result"
    }
   ],
   "source": [
    "PurePath('README.md')"
   ]
  },
  {
   "cell_type": "code",
   "execution_count": 14,
   "metadata": {},
   "outputs": [
    {
     "data": {
      "text/plain": [
       "PureWindowsPath('data/aichallenge2019_移动广告反欺诈算法挑战赛提交样例.xls')"
      ]
     },
     "execution_count": 14,
     "metadata": {},
     "output_type": "execute_result"
    }
   ],
   "source": [
    "PurePath('.', 'data', 'aichallenge2019_移动广告反欺诈算法挑战赛提交样例.xls')"
   ]
  },
  {
   "cell_type": "code",
   "execution_count": null,
   "metadata": {},
   "outputs": [],
   "source": []
  }
 ],
 "metadata": {
  "kernelspec": {
   "display_name": "Python 3",
   "language": "python",
   "name": "python3"
  },
  "language_info": {
   "codemirror_mode": {
    "name": "ipython",
    "version": 3
   },
   "file_extension": ".py",
   "mimetype": "text/x-python",
   "name": "python",
   "nbconvert_exporter": "python",
   "pygments_lexer": "ipython3",
   "version": "3.7.0"
  }
 },
 "nbformat": 4,
 "nbformat_minor": 2
}
