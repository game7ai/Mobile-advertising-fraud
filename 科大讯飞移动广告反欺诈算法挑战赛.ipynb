{
 "cells": [
  {
   "cell_type": "markdown",
   "metadata": {},
   "source": [
    "# 数据预处理\n",
    "\n",
    "将数据放在 `data/raw` 目录下："
   ]
  },
  {
   "cell_type": "code",
   "execution_count": 1,
   "metadata": {},
   "outputs": [],
   "source": [
    "from pathlib import Path\n",
    "import zipfile\n",
    "import pandas as pd\n",
    "import numpy as np"
   ]
  },
  {
   "cell_type": "code",
   "execution_count": 2,
   "metadata": {},
   "outputs": [
    {
     "data": {
      "text/plain": [
       "[WindowsPath('data/raw/aichallenge2019_移动广告反欺诈算法挑战赛-0621.zip'),\n",
       " WindowsPath('data/raw/aichallenge2019_移动广告反欺诈算法挑战赛提交样例.xls')]"
      ]
     },
     "execution_count": 2,
     "metadata": {},
     "output_type": "execute_result"
    }
   ],
   "source": [
    "root = Path('data')\n",
    "[x for x in (root/'raw').iterdir()]"
   ]
  },
  {
   "cell_type": "code",
   "execution_count": 3,
   "metadata": {
    "scrolled": true
   },
   "outputs": [
    {
     "data": {
      "text/html": [
       "<div>\n",
       "<style scoped>\n",
       "    .dataframe tbody tr th:only-of-type {\n",
       "        vertical-align: middle;\n",
       "    }\n",
       "\n",
       "    .dataframe tbody tr th {\n",
       "        vertical-align: top;\n",
       "    }\n",
       "\n",
       "    .dataframe thead th {\n",
       "        text-align: right;\n",
       "    }\n",
       "</style>\n",
       "<table border=\"1\" class=\"dataframe\">\n",
       "  <thead>\n",
       "    <tr style=\"text-align: right;\">\n",
       "      <th></th>\n",
       "      <th>sid</th>\n",
       "      <th>label</th>\n",
       "    </tr>\n",
       "  </thead>\n",
       "  <tbody>\n",
       "    <tr>\n",
       "      <th>0</th>\n",
       "      <td>4601f528-865c-4238-a43f-cf4a4e11027d-156017418...</td>\n",
       "      <td>1</td>\n",
       "    </tr>\n",
       "    <tr>\n",
       "      <th>1</th>\n",
       "      <td>c727e4bf-2ae1-4829-9aa1-730277ee2042-156013863...</td>\n",
       "      <td>0</td>\n",
       "    </tr>\n",
       "    <tr>\n",
       "      <th>2</th>\n",
       "      <td>fe23d40a-0db8-403f-8df0-6e8b9ea461c3-156009638...</td>\n",
       "      <td>1</td>\n",
       "    </tr>\n",
       "    <tr>\n",
       "      <th>3</th>\n",
       "      <td>308b053c-5d7c-43b8-99dc-8aad647f953f-156017652...</td>\n",
       "      <td>0</td>\n",
       "    </tr>\n",
       "    <tr>\n",
       "      <th>4</th>\n",
       "      <td>94477644-63cd-4f3c-9b2a-f3d25f1ec7e2-156014459...</td>\n",
       "      <td>1</td>\n",
       "    </tr>\n",
       "  </tbody>\n",
       "</table>\n",
       "</div>"
      ],
      "text/plain": [
       "                                                 sid  label\n",
       "0  4601f528-865c-4238-a43f-cf4a4e11027d-156017418...      1\n",
       "1  c727e4bf-2ae1-4829-9aa1-730277ee2042-156013863...      0\n",
       "2  fe23d40a-0db8-403f-8df0-6e8b9ea461c3-156009638...      1\n",
       "3  308b053c-5d7c-43b8-99dc-8aad647f953f-156017652...      0\n",
       "4  94477644-63cd-4f3c-9b2a-f3d25f1ec7e2-156014459...      1"
      ]
     },
     "execution_count": 3,
     "metadata": {},
     "output_type": "execute_result"
    }
   ],
   "source": [
    "submit = pd.read_csv(list((root/'raw').glob('*.xls'))[0])\n",
    "submit"
   ]
  },
  {
   "cell_type": "code",
   "execution_count": 4,
   "metadata": {
    "scrolled": false
   },
   "outputs": [
    {
     "data": {
      "text/plain": [
       "[WindowsPath('data/raw')]"
      ]
     },
     "execution_count": 4,
     "metadata": {},
     "output_type": "execute_result"
    }
   ],
   "source": [
    "[x for x in root.iterdir()]"
   ]
  },
  {
   "cell_type": "code",
   "execution_count": 5,
   "metadata": {},
   "outputs": [],
   "source": [
    "from pathlib import Path\n",
    "import zipfile\n",
    "import pandas as pd\n",
    "\n",
    "\n",
    "def unzip(root):\n",
    "    root = Path(root)\n",
    "    Z = zipfile.ZipFile(list((root/'raw').glob('*.zip'))[0])\n",
    "    for fn in Z.namelist():\n",
    "        extract_path = Path(Z.extract(fn, root))\n",
    "        dirt = root/extract_path.parts[1]  # 重命名之后的空目录\n",
    "        # 防止解压后的数据中文名称乱码\n",
    "        extract_path.rename(root/fn.encode('cp437').decode('gbk'))\n",
    "    dirt.rmdir()  # 删除空目录\n",
    "    return [x for x in root.iterdir() if x != root/'raw'][0]\n",
    "\n",
    "\n",
    "class toCSV:\n",
    "    def __init__(self, root):\n",
    "        self.root = root\n",
    "\n",
    "    def get_df(self, dataType, sep='\\t'):\n",
    "        path = list(self.root.glob(f'*{dataType}*'))[0]\n",
    "        df = pd.read_csv(path, sep=sep, index_col='sid')\n",
    "        return df"
   ]
  },
  {
   "cell_type": "code",
   "execution_count": 6,
   "metadata": {},
   "outputs": [],
   "source": [
    "root = unzip('data')\n",
    "tp = toCSV(root)\n",
    "\n",
    "train_df = tp.get_df('train')\n",
    "test_df = tp.get_df('train')\n",
    "sample_df = tp.get_df('sample', ',')"
   ]
  },
  {
   "cell_type": "code",
   "execution_count": 7,
   "metadata": {
    "scrolled": true
   },
   "outputs": [
    {
     "data": {
      "text/html": [
       "<div>\n",
       "<style scoped>\n",
       "    .dataframe tbody tr th:only-of-type {\n",
       "        vertical-align: middle;\n",
       "    }\n",
       "\n",
       "    .dataframe tbody tr th {\n",
       "        vertical-align: top;\n",
       "    }\n",
       "\n",
       "    .dataframe thead th {\n",
       "        text-align: right;\n",
       "    }\n",
       "</style>\n",
       "<table border=\"1\" class=\"dataframe\">\n",
       "  <thead>\n",
       "    <tr style=\"text-align: right;\">\n",
       "      <th></th>\n",
       "      <th>label</th>\n",
       "    </tr>\n",
       "    <tr>\n",
       "      <th>sid</th>\n",
       "      <th></th>\n",
       "    </tr>\n",
       "  </thead>\n",
       "  <tbody>\n",
       "    <tr>\n",
       "      <th>4601f528-865c-4238-a43f-cf4a4e11027d-1560174183640</th>\n",
       "      <td>1</td>\n",
       "    </tr>\n",
       "    <tr>\n",
       "      <th>c727e4bf-2ae1-4829-9aa1-730277ee2042-1560138630353</th>\n",
       "      <td>0</td>\n",
       "    </tr>\n",
       "    <tr>\n",
       "      <th>fe23d40a-0db8-403f-8df0-6e8b9ea461c3-1560096380670</th>\n",
       "      <td>1</td>\n",
       "    </tr>\n",
       "    <tr>\n",
       "      <th>308b053c-5d7c-43b8-99dc-8aad647f953f-1560176523438</th>\n",
       "      <td>0</td>\n",
       "    </tr>\n",
       "    <tr>\n",
       "      <th>94477644-63cd-4f3c-9b2a-f3d25f1ec7e2-1560144590202</th>\n",
       "      <td>1</td>\n",
       "    </tr>\n",
       "  </tbody>\n",
       "</table>\n",
       "</div>"
      ],
      "text/plain": [
       "                                                    label\n",
       "sid                                                      \n",
       "4601f528-865c-4238-a43f-cf4a4e11027d-1560174183640      1\n",
       "c727e4bf-2ae1-4829-9aa1-730277ee2042-1560138630353      0\n",
       "fe23d40a-0db8-403f-8df0-6e8b9ea461c3-1560096380670      1\n",
       "308b053c-5d7c-43b8-99dc-8aad647f953f-1560176523438      0\n",
       "94477644-63cd-4f3c-9b2a-f3d25f1ec7e2-1560144590202      1"
      ]
     },
     "execution_count": 7,
     "metadata": {},
     "output_type": "execute_result"
    }
   ],
   "source": [
    "sample_df"
   ]
  },
  {
   "cell_type": "code",
   "execution_count": 8,
   "metadata": {
    "scrolled": true
   },
   "outputs": [
    {
     "data": {
      "text/plain": [
       "Index(['label', 'pkgname', 'ver', 'adunitshowid', 'mediashowid', 'apptype',\n",
       "       'nginxtime', 'ip', 'city', 'province', 'reqrealip', 'adidmd5',\n",
       "       'imeimd5', 'idfamd5', 'openudidmd5', 'macmd5', 'dvctype', 'model',\n",
       "       'make', 'ntt', 'carrier', 'os', 'osv', 'orientation', 'lan', 'h', 'w',\n",
       "       'ppi'],\n",
       "      dtype='object')"
      ]
     },
     "execution_count": 8,
     "metadata": {},
     "output_type": "execute_result"
    }
   ],
   "source": [
    "train_df.columns"
   ]
  },
  {
   "cell_type": "code",
   "execution_count": 9,
   "metadata": {},
   "outputs": [],
   "source": [
    "int_cols = ['label', 'apptype', 'dvctype', 'ntt', 'orientation', 'h', 'w', 'ppi']\n",
    "time_cols = ['nginxtime']"
   ]
  },
  {
   "cell_type": "code",
   "execution_count": 10,
   "metadata": {
    "scrolled": true
   },
   "outputs": [],
   "source": [
    "train_df.loc[:, int_cols] = train_df.loc[:, int_cols].astype('int').astype('category')"
   ]
  },
  {
   "cell_type": "code",
   "execution_count": 11,
   "metadata": {
    "scrolled": true
   },
   "outputs": [
    {
     "data": {
      "text/plain": [
       "label           category\n",
       "pkgname           object\n",
       "ver               object\n",
       "adunitshowid      object\n",
       "mediashowid       object\n",
       "apptype         category\n",
       "nginxtime        float64\n",
       "ip                object\n",
       "city              object\n",
       "province         float64\n",
       "reqrealip         object\n",
       "adidmd5           object\n",
       "imeimd5           object\n",
       "idfamd5           object\n",
       "openudidmd5       object\n",
       "macmd5            object\n",
       "dvctype         category\n",
       "model             object\n",
       "make              object\n",
       "ntt             category\n",
       "carrier          float64\n",
       "os                object\n",
       "osv               object\n",
       "orientation     category\n",
       "lan               object\n",
       "h               category\n",
       "w               category\n",
       "ppi             category\n",
       "dtype: object"
      ]
     },
     "execution_count": 11,
     "metadata": {},
     "output_type": "execute_result"
    }
   ],
   "source": [
    "train_df.dtypes"
   ]
  },
  {
   "cell_type": "code",
   "execution_count": null,
   "metadata": {},
   "outputs": [],
   "source": []
  }
 ],
 "metadata": {
  "kernelspec": {
   "display_name": "Python 3",
   "language": "python",
   "name": "python3"
  },
  "language_info": {
   "codemirror_mode": {
    "name": "ipython",
    "version": 3
   },
   "file_extension": ".py",
   "mimetype": "text/x-python",
   "name": "python",
   "nbconvert_exporter": "python",
   "pygments_lexer": "ipython3",
   "version": "3.7.0"
  }
 },
 "nbformat": 4,
 "nbformat_minor": 2
}
